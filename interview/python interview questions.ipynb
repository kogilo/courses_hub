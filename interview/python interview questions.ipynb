{
 "cells": [
  {
   "cell_type": "markdown",
   "metadata": {},
   "source": [
    "https://www.techbeamers.com/python-interview-questions-programmers/"
   ]
  },
  {
   "cell_type": "code",
   "execution_count": null,
   "metadata": {},
   "outputs": [],
   "source": []
  },
  {
   "cell_type": "code",
   "execution_count": null,
   "metadata": {},
   "outputs": [],
   "source": []
  },
  {
   "cell_type": "markdown",
   "metadata": {},
   "source": [
    "Q-2: What Is The Output Of The Following Python Code Fragment? Justify Your Answer."
   ]
  },
  {
   "cell_type": "code",
   "execution_count": 6,
   "metadata": {},
   "outputs": [
    {
     "name": "stdout",
     "output_type": "stream",
     "text": [
      "list1 = [10, 'a']\n",
      "list2 = [123]\n",
      "list3 = [10, 'a']\n"
     ]
    }
   ],
   "source": [
    "def extendList(val, list=[]):\n",
    "    list.append(val)\n",
    "    return list\n",
    "\n",
    "list1 = extendList(10)\n",
    "list2 = extendList(123,[])\n",
    "list3 = extendList('a')\n",
    "\n",
    "print (\"list1 = %s\" % list1)\n",
    "print (\"list2 = %s\" % list2)\n",
    "print (\"list3 = %s\" % list3)"
   ]
  },
  {
   "cell_type": "markdown",
   "metadata": {},
   "source": [
    "You may erroneously expect list1 to be equal to [10] and list3 to match with [‘a’], thinking that the list argument will initialize to its default value of [] every time there is a call to the extendList.\n",
    "\n",
    "However, the flow is like that a new list gets created once after the function is defined. And the same get used whenever someone calls the extendList method without a list argument. It works like this because the calculation of expressions (in default arguments) occurs at the time of function definition, not during its invocation.\n",
    "\n",
    "The list1 and list3 are hence operating on the same default list, whereas list2 is running on a separate object that it has created on its own (by passing an empty list as the value of the list parameter).\n",
    "\n",
    "The definition of the extendList function can get changed in the following manner."
   ]
  },
  {
   "cell_type": "code",
   "execution_count": 12,
   "metadata": {},
   "outputs": [],
   "source": [
    "def extendList(val, list=None):\n",
    "    if list is None:\n",
    "        list = []\n",
    "        list.append(val)\n",
    "        return list"
   ]
  },
  {
   "cell_type": "markdown",
   "metadata": {},
   "source": [
    "With this revised implementation, the output would be:"
   ]
  },
  {
   "cell_type": "markdown",
   "metadata": {},
   "source": [
    "Q-3: What Is The Statement That Can Be Used In Python If The Program Requires No Action But Requires It Syntactically?\n",
    "\n",
    "\n",
    "The pass statement is a null operation. Nothing happens when it executes. You should use “pass” keyword in lowercase. If you write “Pass,” you’ll face an error like “NameError: name Pass is not defined.” Python statements are case sensitive."
   ]
  },
  {
   "cell_type": "code",
   "execution_count": 13,
   "metadata": {},
   "outputs": [
    {
     "name": "stdout",
     "output_type": "stream",
     "text": [
      "h\n",
      "pass statement is execute ..............\n",
      "i\n",
      " \n",
      "s\n",
      "e\n",
      "t\n",
      "h\n",
      "u\n",
      "r\n",
      "pass statement is execute ..............\n",
      "m\n",
      "pass statement is execute ..............\n",
      "n\n"
     ]
    }
   ],
   "source": [
    "letter = \"hai sethuraman\"\n",
    "for i in letter:\n",
    "    if i == \"a\":\n",
    "        pass\n",
    "        print(\"pass statement is execute ..............\")\n",
    "    else:\n",
    "        print(i)"
   ]
  },
  {
   "cell_type": "markdown",
   "metadata": {},
   "source": [
    "Q-4: What’s The Process To Get The Home Directory Using ‘~’ In Python?\n",
    "\n",
    "\n",
    "You need to import the os module, and then just a single line would do the rest."
   ]
  },
  {
   "cell_type": "code",
   "execution_count": 14,
   "metadata": {},
   "outputs": [
    {
     "name": "stdout",
     "output_type": "stream",
     "text": [
      "/Users/abullaothuw\n"
     ]
    }
   ],
   "source": [
    "import os\n",
    "print (os.path.expanduser('~'))"
   ]
  },
  {
   "cell_type": "markdown",
   "metadata": {},
   "source": [
    "Q-5: What Are The Built-In Types Available In Python?\n",
    "\n",
    "\n",
    "Here is the list of most commonly used built-in types that Python supports:\n",
    "\n",
    "* Immutable built-in datatypes of Python\n",
    "    - Numbers\n",
    "    - Strings\n",
    "    - Tuples\n",
    "* Mutable built-in datatypes of Python\n",
    "    - List\n",
    "    - Dictionaries\n",
    "    - Sets"
   ]
  },
  {
   "cell_type": "code",
   "execution_count": null,
   "metadata": {},
   "outputs": [],
   "source": []
  },
  {
   "cell_type": "code",
   "execution_count": null,
   "metadata": {},
   "outputs": [],
   "source": []
  },
  {
   "cell_type": "code",
   "execution_count": null,
   "metadata": {},
   "outputs": [],
   "source": []
  },
  {
   "cell_type": "code",
   "execution_count": null,
   "metadata": {},
   "outputs": [],
   "source": []
  },
  {
   "cell_type": "code",
   "execution_count": null,
   "metadata": {},
   "outputs": [],
   "source": []
  },
  {
   "cell_type": "code",
   "execution_count": null,
   "metadata": {},
   "outputs": [],
   "source": []
  },
  {
   "cell_type": "code",
   "execution_count": 8,
   "metadata": {},
   "outputs": [],
   "source": [
    "woredasName = ['Jor', 'Abobo', 'Gog', 'Lare', 'Godera']\n",
    "populations =[20000, 30000, 15000, 22000, 24000]\n",
    "zones = ['Anywaa', 'Anywaa', 'Anywaa', 'Nuer', 'Majang']\n",
    "woredas_tuples = zip(woredasName, populations, zones)"
   ]
  },
  {
   "cell_type": "code",
   "execution_count": 9,
   "metadata": {},
   "outputs": [],
   "source": [
    "class Woreda:\n",
    "    def __init__(self, w, p, z):\n",
    "        self.woreda = w\n",
    "        self.population = p\n",
    "        self.zone = z\n",
    "    def __str__(self):\n",
    "        return '{}, {} (pop: {})'.format(self.woreda, self.zone, self.population)\n",
    "woredas = [Woreda(w, p, z) for (w, p, z) in woredas_tuples]"
   ]
  },
  {
   "cell_type": "code",
   "execution_count": 11,
   "metadata": {},
   "outputs": [
    {
     "name": "stdout",
     "output_type": "stream",
     "text": [
      "[<__main__.Woreda object at 0x107d4cc10>, <__main__.Woreda object at 0x107d570d0>, <__main__.Woreda object at 0x107d4c7d0>, <__main__.Woreda object at 0x107d4ced0>, <__main__.Woreda object at 0x107d4ccd0>]\n"
     ]
    }
   ],
   "source": [
    "print (woredas)"
   ]
  },
  {
   "cell_type": "code",
   "execution_count": null,
   "metadata": {},
   "outputs": [],
   "source": []
  }
 ],
 "metadata": {
  "kernelspec": {
   "display_name": "Python 3",
   "language": "python",
   "name": "python3"
  },
  "language_info": {
   "codemirror_mode": {
    "name": "ipython",
    "version": 3
   },
   "file_extension": ".py",
   "mimetype": "text/x-python",
   "name": "python",
   "nbconvert_exporter": "python",
   "pygments_lexer": "ipython3",
   "version": "3.7.4"
  }
 },
 "nbformat": 4,
 "nbformat_minor": 2
}
